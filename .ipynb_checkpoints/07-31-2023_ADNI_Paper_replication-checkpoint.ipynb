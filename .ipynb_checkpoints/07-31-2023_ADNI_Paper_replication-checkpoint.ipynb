{
 "cells": [
  {
   "cell_type": "code",
   "execution_count": 5,
   "id": "38d73bec-ce83-4b00-ab96-e12d4671d3bf",
   "metadata": {},
   "outputs": [],
   "source": [
    "import torch\n",
    "import torch.nn as nn\n",
    "import torch.optim as optim\n",
    "import torchvision\n",
    "import torchvision.transforms as transforms\n",
    "\n",
    "import os\n",
    "import numpy as np\n"
   ]
  },
  {
   "cell_type": "code",
   "execution_count": 6,
   "id": "76c01eae-b009-4059-9910-1643973e776f",
   "metadata": {},
   "outputs": [
    {
     "name": "stdout",
     "output_type": "stream",
     "text": [
      "Using device: cuda:0\n"
     ]
    }
   ],
   "source": [
    "device = torch.device('cuda:0' if torch.cuda.is_available() else 'cpu')\n",
    "print(f'Using device: {device}')\n"
   ]
  },
  {
   "cell_type": "code",
   "execution_count": 11,
   "id": "cd44c581-b76d-4f85-98da-43f01d78a6c4",
   "metadata": {
    "tags": []
   },
   "outputs": [
    {
     "name": "stdout",
     "output_type": "stream",
     "text": [
      "x_train_all shape: torch.Size([891, 128, 128, 128, 1])\n",
      "x_val_all shape: torch.Size([128, 128, 128, 128, 1])\n",
      "x_test_all shape: torch.Size([256, 128, 128, 128, 1])\n",
      "y_train_all shape: torch.Size([891])\n",
      "y_val_all shape: torch.Size([128])\n",
      "y_test_all shape: torch.Size([256])\n"
     ]
    }
   ],
   "source": [
    "data_directory = \"./Data\"\n",
    "\n",
    "# Load the data from the numpy files\n",
    "x_train_all = np.load(os.path.join(data_directory, \"x_train_all.npy\"))\n",
    "x_val_all = np.load(os.path.join(data_directory, \"x_val_all.npy\"))\n",
    "x_test_all = np.load(os.path.join(data_directory, \"x_test_all.npy\"))\n",
    "\n",
    "y_train_all = np.load(os.path.join(data_directory, \"y_train_all.npy\"))\n",
    "y_val_all = np.load(os.path.join(data_directory, \"y_val_all.npy\"))\n",
    "y_test_all = np.load(os.path.join(data_directory, \"y_test_all.npy\"))\n",
    "\n",
    "#calculate the mean and the standard deviation of the data\n",
    "data_mean = np.mean(x_train_all)\n",
    "data_std = np.std(x_train_all)\n",
    "\n",
    "#normalize the data using the above values\n",
    "# Normalize the data using the calculated mean and standard deviation\n",
    "x_train_all_normalized = (x_train_all - data_mean) / data_std\n",
    "x_val_all_normalized = (x_val_all - data_mean) / data_std\n",
    "x_test_all_normalized = (x_test_all - data_mean) / data_std\n",
    "\n",
    "\n",
    "# Convert the numpy arrays to PyTorch tensors\n",
    "x_train_all = torch.tensor(x_train_all)\n",
    "x_val_all = torch.tensor(x_val_all)\n",
    "x_test_all = torch.tensor(x_test_all)\n",
    "\n",
    "y_train_all = torch.tensor(y_train_all)\n",
    "y_val_all = torch.tensor(y_val_all)\n",
    "y_test_all = torch.tensor(y_test_all)\n",
    "\n",
    "# Print the shapes to verify\n",
    "print(\"x_train_all shape:\", x_train_all.shape)\n",
    "print(\"x_val_all shape:\", x_val_all.shape)\n",
    "print(\"x_test_all shape:\", x_test_all.shape)\n",
    "print(\"y_train_all shape:\", y_train_all.shape)\n",
    "print(\"y_val_all shape:\", y_val_all.shape)\n",
    "print(\"y_test_all shape:\", y_test_all.shape)\n",
    "\n"
   ]
  },
  {
   "cell_type": "code",
   "execution_count": null,
   "id": "8bd5e921-83df-4926-b63f-2ae9283b9c7a",
   "metadata": {},
   "outputs": [],
   "source": []
  }
 ],
 "metadata": {
  "kernelspec": {
   "display_name": "Python 3 (ipykernel)",
   "language": "python",
   "name": "python3"
  },
  "language_info": {
   "codemirror_mode": {
    "name": "ipython",
    "version": 3
   },
   "file_extension": ".py",
   "mimetype": "text/x-python",
   "name": "python",
   "nbconvert_exporter": "python",
   "pygments_lexer": "ipython3",
   "version": "3.10.5"
  }
 },
 "nbformat": 4,
 "nbformat_minor": 5
}
